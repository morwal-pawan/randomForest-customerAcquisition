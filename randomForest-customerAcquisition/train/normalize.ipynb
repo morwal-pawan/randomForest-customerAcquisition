{
 "cells": [
  {
   "cell_type": "code",
   "execution_count": 1,
   "metadata": {
    "collapsed": true
   },
   "outputs": [],
   "source": [
    "import pandas as pd\n",
    "import numpy as np"
   ]
  },
  {
   "cell_type": "code",
   "execution_count": 2,
   "metadata": {
    "collapsed": true
   },
   "outputs": [],
   "source": [
    "train=pd.read_csv('./noreduce_train_base_features.csv',sep=' ')"
   ]
  },
  {
   "cell_type": "code",
   "execution_count": 3,
   "metadata": {
    "collapsed": false
   },
   "outputs": [
    {
     "data": {
      "text/html": [
       "<div>\n",
       "<table border=\"1\" class=\"dataframe\">\n",
       "  <thead>\n",
       "    <tr style=\"text-align: right;\">\n",
       "      <th></th>\n",
       "      <th>label</th>\n",
       "      <th>repeattrips</th>\n",
       "      <th>id</th>\n",
       "      <th>offer_id</th>\n",
       "      <th>never_bought_company</th>\n",
       "      <th>never_bought_category</th>\n",
       "      <th>never_bought_brand</th>\n",
       "      <th>has_bought_brand_company_category</th>\n",
       "      <th>has_bought_brand_category</th>\n",
       "      <th>has_bought_brand_company</th>\n",
       "      <th>...</th>\n",
       "      <th>has_bought_brand_q_60</th>\n",
       "      <th>has_bought_brand_a_60</th>\n",
       "      <th>has_bought_brand_90</th>\n",
       "      <th>has_bought_brand_q_90</th>\n",
       "      <th>has_bought_brand_a_90</th>\n",
       "      <th>has_bought_brand_180</th>\n",
       "      <th>has_bought_brand_q_180</th>\n",
       "      <th>has_bought_brand_a_180</th>\n",
       "      <th>market</th>\n",
       "      <th>chain</th>\n",
       "    </tr>\n",
       "  </thead>\n",
       "  <tbody>\n",
       "    <tr>\n",
       "      <th>0</th>\n",
       "      <td>1</td>\n",
       "      <td>5</td>\n",
       "      <td>86246</td>\n",
       "      <td>1208251</td>\n",
       "      <td>0</td>\n",
       "      <td>1</td>\n",
       "      <td>0</td>\n",
       "      <td>0</td>\n",
       "      <td>0</td>\n",
       "      <td>1</td>\n",
       "      <td>...</td>\n",
       "      <td>5</td>\n",
       "      <td>14.95</td>\n",
       "      <td>6</td>\n",
       "      <td>6</td>\n",
       "      <td>20.64</td>\n",
       "      <td>7</td>\n",
       "      <td>7</td>\n",
       "      <td>23.13</td>\n",
       "      <td>34</td>\n",
       "      <td>205</td>\n",
       "    </tr>\n",
       "    <tr>\n",
       "      <th>1</th>\n",
       "      <td>1</td>\n",
       "      <td>16</td>\n",
       "      <td>86252</td>\n",
       "      <td>1197502</td>\n",
       "      <td>0</td>\n",
       "      <td>0</td>\n",
       "      <td>0</td>\n",
       "      <td>1</td>\n",
       "      <td>1</td>\n",
       "      <td>1</td>\n",
       "      <td>...</td>\n",
       "      <td>1</td>\n",
       "      <td>1.99</td>\n",
       "      <td>1</td>\n",
       "      <td>1</td>\n",
       "      <td>1.99</td>\n",
       "      <td>1</td>\n",
       "      <td>1</td>\n",
       "      <td>1.99</td>\n",
       "      <td>34</td>\n",
       "      <td>205</td>\n",
       "    </tr>\n",
       "    <tr>\n",
       "      <th>2</th>\n",
       "      <td>0</td>\n",
       "      <td>0</td>\n",
       "      <td>12682470</td>\n",
       "      <td>1197502</td>\n",
       "      <td>1</td>\n",
       "      <td>0</td>\n",
       "      <td>1</td>\n",
       "      <td>0</td>\n",
       "      <td>0</td>\n",
       "      <td>0</td>\n",
       "      <td>...</td>\n",
       "      <td>0</td>\n",
       "      <td>0.00</td>\n",
       "      <td>0</td>\n",
       "      <td>0</td>\n",
       "      <td>0.00</td>\n",
       "      <td>0</td>\n",
       "      <td>0</td>\n",
       "      <td>0.00</td>\n",
       "      <td>11</td>\n",
       "      <td>18</td>\n",
       "    </tr>\n",
       "    <tr>\n",
       "      <th>3</th>\n",
       "      <td>0</td>\n",
       "      <td>0</td>\n",
       "      <td>12996040</td>\n",
       "      <td>1197502</td>\n",
       "      <td>1</td>\n",
       "      <td>1</td>\n",
       "      <td>1</td>\n",
       "      <td>0</td>\n",
       "      <td>0</td>\n",
       "      <td>0</td>\n",
       "      <td>...</td>\n",
       "      <td>0</td>\n",
       "      <td>0.00</td>\n",
       "      <td>0</td>\n",
       "      <td>0</td>\n",
       "      <td>0.00</td>\n",
       "      <td>0</td>\n",
       "      <td>0</td>\n",
       "      <td>0.00</td>\n",
       "      <td>9</td>\n",
       "      <td>15</td>\n",
       "    </tr>\n",
       "    <tr>\n",
       "      <th>4</th>\n",
       "      <td>0</td>\n",
       "      <td>0</td>\n",
       "      <td>13089312</td>\n",
       "      <td>1204821</td>\n",
       "      <td>0</td>\n",
       "      <td>1</td>\n",
       "      <td>0</td>\n",
       "      <td>0</td>\n",
       "      <td>0</td>\n",
       "      <td>1</td>\n",
       "      <td>...</td>\n",
       "      <td>5</td>\n",
       "      <td>19.95</td>\n",
       "      <td>3</td>\n",
       "      <td>5</td>\n",
       "      <td>19.95</td>\n",
       "      <td>3</td>\n",
       "      <td>5</td>\n",
       "      <td>19.95</td>\n",
       "      <td>9</td>\n",
       "      <td>15</td>\n",
       "    </tr>\n",
       "  </tbody>\n",
       "</table>\n",
       "<p>5 rows × 60 columns</p>\n",
       "</div>"
      ],
      "text/plain": [
       "   label  repeattrips        id  offer_id  never_bought_company  \\\n",
       "0      1            5     86246   1208251                     0   \n",
       "1      1           16     86252   1197502                     0   \n",
       "2      0            0  12682470   1197502                     1   \n",
       "3      0            0  12996040   1197502                     1   \n",
       "4      0            0  13089312   1204821                     0   \n",
       "\n",
       "   never_bought_category  never_bought_brand  \\\n",
       "0                      1                   0   \n",
       "1                      0                   0   \n",
       "2                      0                   1   \n",
       "3                      1                   1   \n",
       "4                      1                   0   \n",
       "\n",
       "   has_bought_brand_company_category  has_bought_brand_category  \\\n",
       "0                                  0                          0   \n",
       "1                                  1                          1   \n",
       "2                                  0                          0   \n",
       "3                                  0                          0   \n",
       "4                                  0                          0   \n",
       "\n",
       "   has_bought_brand_company  ...    has_bought_brand_q_60  \\\n",
       "0                         1  ...                        5   \n",
       "1                         1  ...                        1   \n",
       "2                         0  ...                        0   \n",
       "3                         0  ...                        0   \n",
       "4                         1  ...                        5   \n",
       "\n",
       "   has_bought_brand_a_60  has_bought_brand_90  has_bought_brand_q_90  \\\n",
       "0                  14.95                    6                      6   \n",
       "1                   1.99                    1                      1   \n",
       "2                   0.00                    0                      0   \n",
       "3                   0.00                    0                      0   \n",
       "4                  19.95                    3                      5   \n",
       "\n",
       "   has_bought_brand_a_90  has_bought_brand_180  has_bought_brand_q_180  \\\n",
       "0                  20.64                     7                       7   \n",
       "1                   1.99                     1                       1   \n",
       "2                   0.00                     0                       0   \n",
       "3                   0.00                     0                       0   \n",
       "4                  19.95                     3                       5   \n",
       "\n",
       "   has_bought_brand_a_180  market  chain  \n",
       "0                   23.13      34    205  \n",
       "1                    1.99      34    205  \n",
       "2                    0.00      11     18  \n",
       "3                    0.00       9     15  \n",
       "4                   19.95       9     15  \n",
       "\n",
       "[5 rows x 60 columns]"
      ]
     },
     "execution_count": 3,
     "metadata": {},
     "output_type": "execute_result"
    }
   ],
   "source": [
    "train[:][:5]"
   ]
  },
  {
   "cell_type": "code",
   "execution_count": 4,
   "metadata": {
    "collapsed": true
   },
   "outputs": [],
   "source": [
    "train_label=train['label']"
   ]
  },
  {
   "cell_type": "code",
   "execution_count": 6,
   "metadata": {
    "collapsed": false
   },
   "outputs": [],
   "source": [
    "#train_label"
   ]
  },
  {
   "cell_type": "code",
   "execution_count": 8,
   "metadata": {
    "collapsed": false
   },
   "outputs": [
    {
     "data": {
      "text/plain": [
       "38.34296715553532"
      ]
     },
     "execution_count": 8,
     "metadata": {},
     "output_type": "execute_result"
    }
   ],
   "source": [
    "train['has_bought_brand_a_90'].std()"
   ]
  },
  {
   "cell_type": "code",
   "execution_count": null,
   "metadata": {
    "collapsed": true
   },
   "outputs": [],
   "source": []
  }
 ],
 "metadata": {
  "kernelspec": {
   "display_name": "Python 2",
   "language": "python",
   "name": "python2"
  },
  "language_info": {
   "codemirror_mode": {
    "name": "ipython",
    "version": 2
   },
   "file_extension": ".py",
   "mimetype": "text/x-python",
   "name": "python",
   "nbconvert_exporter": "python",
   "pygments_lexer": "ipython2",
   "version": "2.7.11"
  }
 },
 "nbformat": 4,
 "nbformat_minor": 0
}
